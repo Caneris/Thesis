{
 "cells": [
  {
   "cell_type": "markdown",
   "metadata": {},
   "source": [
    "# Variances and Beliefs"
   ]
  },
  {
   "cell_type": "markdown",
   "metadata": {},
   "source": [
    "Here I want to see whether pessimistic beliefs have an impact on the variance of the assets or not. \n",
    "<br\\>\n",
    "* First, I will write a function that returns a belief decompostition of a transition matrix, a real transition matrix and a corresponding belief matrix with pessimistic beliefs.\n",
    "<br\\>\n",
    "* Then, I will write a class and corresponding functions, which distinguish between the two different kinds of transition matrices.\n",
    "<br\\>\n",
    "* After that, I will simulate the asset choices given a interest rate, compute the variance of the assets series and compare them.\n",
    "<br\\>\n",
    "* Finally, I will write a function which return a mean preserving spread of the state values given the belief matrix, then use that to compute another asset series which I can compare to the both before.\n",
    "\n"
   ]
  },
  {
   "cell_type": "code",
   "execution_count": 62,
   "metadata": {
    "collapsed": true
   },
   "outputs": [],
   "source": [
    "# First, I will write a function that returns a belief \n",
    "# decompostition of a transition matrix, a real transition \n",
    "# matrix and a corresponding belief matrix with pessimistic beliefs.\n",
    "\n",
    "import numpy as np\n",
    "from quantecon import MarkovChain\n",
    "\n",
    "def trans_mat(P1, P3, epsilon):\n",
    "    \"\"\"\n",
    "    Returns a transition matrix (for a markov chain) of the following form:\n",
    "        \n",
    "        Π = ((P1, P2, 0), (P2 - epsilon, P1, epsilon), (P4, P4, P3))\n",
    "    \n",
    "    where P2 = 1-P1 and P4 = 0.5*(1-P3)\n",
    "    \n",
    "    epsilon is the probability for the transition from the 2. to the \n",
    "    3. state.\n",
    "    P1 is the probability to stay in the current state if the \n",
    "    current state is the 1. or 2. state.\n",
    "    P3 ist the probability to stay in the 3rd state.\n",
    "    2*P4 ist the probability to get out of the 3rd state.\n",
    "    \"\"\"\n",
    "    P2, P4 = (1-P1), 0.5*(1-P3)\n",
    "    \n",
    "    Π = ((P1, P2, 0), (P2 - epsilon, P1, epsilon), (P4, P4, P3))\n",
    "    \n",
    "    return np.asarray(Π)\n",
    "\n",
    "\n",
    "def belief_decompose(Π, z_vals):\n",
    "    \n",
    "    \"\"\"\n",
    "    Belief decomposition for a 3x3 matrix with the follwowing form:\n",
    "        \n",
    "        Π = ((P1, P2, 0), (P2 - epsilon, P1, epsilon), (P4, P4, P3))\n",
    "        \n",
    "    The belief matrix has the following form:\n",
    "        \n",
    "        Π_belief = (( P1, 0.5*P2, 0.5*P2, 0), \n",
    "                    (0.5*(P2-epsilon), P1, 0.5*(P2-epsilon), epsilon), \n",
    "                    ( 0, 0, P1, 1 - P1), \n",
    "                    (P4, P4, 0, P3))\n",
    "    \"\"\"\n",
    "    \n",
    "    P1, P2, P3, P4 = Π[0][0], Π[0][1], Π[2][2], Π[2][0]\n",
    "    epsilon = Π[1][2]\n",
    "    \n",
    "    Π_belief = (( P1, 0.5*P2, 0.5*P2, 0), \n",
    "                (0.5*(P2-epsilon), P1, 0.5*(P2-epsilon), epsilon), \n",
    "                ( 0, 0, P1, 1 - P1), \n",
    "                (P4, P4, 0, P3))\n",
    "        \n",
    "    # rewrite the real transition matrix\n",
    "    Π_real = ((P1, 0.5*P2, 0.5*P2, 0),\n",
    "              (P2-epsilon, 0.5*P1, 0.5*P1, epsilon), \n",
    "              (P2-epsilon, 0.5*P1, 0.5*P1, epsilon), \n",
    "              (P4, 0.5*P4, 0.5*P4, P3))\n",
    "    \n",
    "    # adjust state space\n",
    "    z_vals = np.asarray(z_vals)\n",
    "    z_vals = np.insert(z_vals, 1, z_vals[1])\n",
    "    \n",
    "    return np.asarray(Π_real), np.asarray(Π_belief), np.asarray(z_vals)\n",
    "\n",
    "# write code with which you can compute a mean-preserving-spread\n",
    "# for the 'perceived' state space\n",
    "\n",
    "def exp_val(z_vals, P_z):\n",
    "    \"\"\"\n",
    "    This function gives you the weighted average of all states of a \n",
    "    markov chain in the long run.\n",
    "    \n",
    "    Parameters\n",
    "    -----------\n",
    "    \n",
    "    z_vals : state values of the markov chain\n",
    "    P_z : transition matrix\n",
    "    \"\"\"\n",
    "    mc = MarkovChain(P_z, state_values = z_vals) # get the stationary probs\n",
    "    return np.sum(mc.stationary_distributions * z_vals) # compute weighted average\n",
    "\n",
    "def mean_preserving_states(z_vals, Π_real, Π_belief, err_tol):\n",
    "    exp_real = exp_val(z_vals=z_vals, P_z=Π_real)\n",
    "    exp_belief = exp_val(z_vals=z_vals, P_z=Π_belief)\n",
    "    z_vals_new = np.array(z_vals)\n",
    "    diff = exp_real - exp_belief\n",
    "    n = len(z_vals)\n",
    "    \n",
    "    s_dist = MarkovChain(Π_belief).stationary_distributions[0]\n",
    "    w_high = s_dist[0]/(s_dist[0]+s_dist[-1]) #weight for high value state\n",
    "    w_neg = 1 - w_high # weight for negatiive value state\n",
    "    \n",
    "    while abs(diff) > err_tol:\n",
    "        if z_vals_new[-1] >= -0.3:\n",
    "            z_vals_new[-1] = -0.3\n",
    "            z_vals_new[0] = z_vals_new[0]+(w_high*diff)\n",
    "            exp_real = exp_val(z_vals=z_vals, P_z=Π_real)\n",
    "            exp_belief = exp_val(z_vals=z_vals_new, P_z=Π_belief)\n",
    "            diff = exp_real - exp_belief\n",
    "        else:\n",
    "            z_vals_new[0], z_vals_new[-1] = z_vals_new[0]+(w_high*diff), z_vals_new[-1]+(w_neg*diff)\n",
    "            exp_real = exp_val(z_vals=z_vals, P_z=Π_real)\n",
    "            exp_belief = exp_val(z_vals=z_vals_new, P_z=Π_belief)\n",
    "            diff = exp_real - exp_belief\n",
    "            #print('{}, {}'.format(exp_real, exp_belief))\n",
    "    return np.asarray(z_vals_new)\n",
    "\n",
    "\n",
    "def mean_and_var_preserving_states(z_vals, Π_real, Π_belief, err_tol, T=1000000):\n",
    "    exp_real = exp_val(z_vals=z_vals, P_z=Π_real)\n",
    "    exp_belief = exp_val(z_vals=z_vals, P_z=Π_belief)\n",
    "    z_vals_new = np.array(z_vals)\n",
    "    diff_exp = exp_real - exp_belief\n",
    "    weights_exp = MarkovChain(Π_belief).stationary_distributions[0]\n",
    "    weights_exp[2] = weights_exp[1]\n",
    "    weights_exp = weights_exp/sum(weights_exp)\n",
    "    n = len(z_vals)\n",
    "    \n",
    "    var_real = np.sqrt(np.var(MarkovChain(Π_real, z_vals).simulate(T)))\n",
    "    var_belief = np.sqrt(np.var(MarkovChain(Π_belief, z_vals).simulate(T)))\n",
    "    weights_var = MarkovChain(Π_belief).stationary_distributions[0][0:3]\n",
    "    weights_var[2] = weights_var[1]\n",
    "    weights_var = weights_var/sum(weights_var)\n",
    "    diff_var = var_belief - var_real\n",
    "    \n",
    "    while abs(diff_exp) > err_tol or abs(diff_var) > err_tol:\n",
    "    \n",
    "        while abs(diff_exp) > err_tol:\n",
    "            for i, weight in enumerate(weights_exp):\n",
    "                z_vals_new[i] += weight*diff_exp\n",
    "        \n",
    "            exp_real = exp_val(z_vals=z_vals, P_z=Π_real)\n",
    "            exp_belief = exp_val(z_vals=z_vals_new, P_z=Π_belief)\n",
    "            diff_exp = exp_real - exp_belief\n",
    "        \n",
    "            var_real = np.sqrt(np.var(MarkovChain(Π_real, z_vals).simulate(T)))\n",
    "            var_belief = np.sqrt(np.var(MarkovChain(Π_belief, z_vals_new).simulate(T)))\n",
    "            diff_var = var_belief - var_real\n",
    "    \n",
    "        while abs(diff_var) > err_tol:\n",
    "            for i, weight in enumerate(weights_var):\n",
    "                if i == 0:\n",
    "                    z_vals_new[i] -= weight*diff_var\n",
    "                else:\n",
    "                    z_vals_new[i] += weight*diff_var\n",
    "                \n",
    "            exp_real = exp_val(z_vals=z_vals, P_z=Π_real)\n",
    "            exp_belief = exp_val(z_vals=z_vals_new, P_z=Π_belief)\n",
    "            diff_exp = exp_real - exp_belief\n",
    "        \n",
    "            var_real = np.sqrt(np.var(MarkovChain(Π_real, z_vals).simulate(T)))\n",
    "            var_belief = np.sqrt(np.var(MarkovChain(Π_belief, z_vals_new).simulate(T)))\n",
    "            diff_var = var_belief - var_real\n",
    "        \n",
    "    print('means_err: {}'.format(diff_exp))\n",
    "    print('variance_err: {}, real: {}, belief: {}'.format(diff_var, var_real, var_belief))\n",
    "    print('r-shock state values: {}'.format(np.asarray(z_vals_new)))\n",
    "    \n",
    "    return np.asarray(z_vals_new)\n",
    "\n"
   ]
  },
  {
   "cell_type": "code",
   "execution_count": 63,
   "metadata": {},
   "outputs": [
    {
     "data": {
      "text/plain": [
       "(0.84315029357999483, 0.84315037929495773)"
      ]
     },
     "execution_count": 63,
     "metadata": {},
     "output_type": "execute_result"
    }
   ],
   "source": [
    "P1, P3, epsilon = 0.6, 0.3, 0.005\n",
    "z_vals = (1.5, 0.2, -0.5)\n",
    "\n",
    "P_real, P_belief, z_vals = belief_decompose(trans_mat(P1,P3,epsilon), z_vals)\n",
    "\n",
    "z_vals_new = mean_preserving_states(z_vals, \n",
    "                                    P_real, \n",
    "                                    P_belief, \n",
    "                                    1e-7)\n",
    "\n",
    "# test whether the function works\n",
    "exp_val(z_vals_new, P_belief), exp_val(z_vals, P_real)"
   ]
  },
  {
   "cell_type": "code",
   "execution_count": 64,
   "metadata": {},
   "outputs": [
    {
     "name": "stdout",
     "output_type": "stream",
     "text": [
      "real matrix: \n",
      " \n",
      "[[ 0.6    0.2    0.2    0.   ]\n",
      " [ 0.395  0.3    0.3    0.005]\n",
      " [ 0.395  0.3    0.3    0.005]\n",
      " [ 0.35   0.175  0.175  0.3  ]]\n",
      "\n",
      " \n",
      " belief matrix: \n",
      " \n",
      "[[ 0.6     0.2     0.2     0.    ]\n",
      " [ 0.1975  0.6     0.1975  0.005 ]\n",
      " [ 0.      0.      0.6     0.4   ]\n",
      " [ 0.35    0.35    0.      0.3   ]]\n",
      "\n",
      " \n",
      " state space: \n",
      " \n",
      "[ 1.5  0.2  0.2 -0.5]\n"
     ]
    }
   ],
   "source": [
    "print('real matrix: \\n \\n{}'.format(P_real))\n",
    "print('\\n \\n belief matrix: \\n \\n{}'.format(P_belief))\n",
    "print('\\n \\n state space: \\n \\n{}'.format(z_vals))"
   ]
  },
  {
   "cell_type": "markdown",
   "metadata": {},
   "source": [
    "When we are working with beliefs, we have to keep in mind that there are two kinds of 'realities' in this model.\n",
    "<br\\>\n",
    "<br\\>\n",
    "One is the 'actual' reality where the 'real' values are realized by the 'real' transition matrix. The other one is the agent's 'belief-reality' where the agent makes decisions based on a belief-transition-matrix, he perceives the realizations differently than they are in the actual reality of the simulation of this model.\n",
    "<br\\>\n",
    "<br\\>\n",
    "We are using a pessimistic belief-matrix. Consequently, in the agent's 'belief-reality', the realization of the interest rates will be much lower in average. Thus, the marginal utility of the assets will be much lower and then it's not so suprising that the agent is going to save less.\n",
    "<br\\>\n",
    "<br\\>\n",
    "That's why I have written a code, which computes a mean-preserving-spread of the state values. When simulating the pessimistic case with a mean_preserving-spread, I should put the new state values only into the expactation of the agents as they are only the values of the states which are perceived by the agent and not the 'real' values."
   ]
  },
  {
   "cell_type": "code",
   "execution_count": 65,
   "metadata": {
    "collapsed": true
   },
   "outputs": [],
   "source": [
    "# Then, I will write a class and corresponding functions, \n",
    "# which distinguish between the two different \n",
    "# kinds of transition matrices.\n",
    "\n",
    "import numpy as np\n",
    "from scipy.optimize import brentq\n",
    "from quantecon import MarkovChain\n",
    "\n",
    "class Pair:\n",
    "    \"\"\"\n",
    "    This class, takes two markov processes, combines their state spaces\n",
    "    and gives the corresponding transition matrix.\n",
    "    \"\"\"    \n",
    "    \n",
    "    def __init__(self,\n",
    "                 a_vals = [0, 1], # state values of the first mc\n",
    "                 b_vals = [1, 0], # state values of the second mc\n",
    "                 P_a = [[0.9, 0.1], [0.1, 0.9]],\n",
    "                 P_b = [[0.8, 0.2], [0.2, 0.8]]):\n",
    "        \n",
    "        self.a_vals = np.asarray(a_vals)\n",
    "        self.b_vals = np.asarray(b_vals)\n",
    "        self.P_a = np.asarray(P_a)\n",
    "        self.P_b = np.asarray(P_b)\n",
    "        self.n = len(a_vals) * len(b_vals)\n",
    "        \n",
    "        # Build the array with combined state values\n",
    "        self.s_vals = make_statespace(self.a_vals, self.b_vals)\n",
    "        \n",
    "        # Combine both transition matrices\n",
    "        self.Q = np.kron(self.P_b, self.P_a)\n",
    "    \n",
    "\n",
    "def make_statespace(a, b):\n",
    "    \"\"\"\n",
    "    returns state space s_vals, when two statespaces of two independend markov \n",
    "    chains a, b are combined to s:=(a_state, b_state)\n",
    "    \n",
    "    Parameters\n",
    "    ----------\n",
    "    a,b : state spaces in form of numpy arrays containing the state values of\n",
    "          the two markov chains a and b.\n",
    "          \n",
    "    Returns\n",
    "    ---------\n",
    "    state space vector : Returns a two-dimentional array \n",
    "                         [[a_state1, b_state1], [a_state2, b_state1], ...etc]\n",
    "    \"\"\"\n",
    "    \n",
    "    s_vals = []\n",
    "\n",
    "    for j in range(len(b)):\n",
    "        for i in range(len(a)):\n",
    "            s_vals.append([a[i], b[j]])\n",
    "    return np.array(s_vals)\n",
    "\n",
    "def fixed_point(K, c_init, err_tol=1e-3, max_iter=300):\n",
    "    i, c = 0, K(c_init)\n",
    "    if np.linalg.norm((c-c_init))<err_tol:\n",
    "        return c\n",
    "    while max_iter>i and np.linalg.norm((c-c_init))>=err_tol:\n",
    "        i=i+1\n",
    "        c_init=c\n",
    "        c=K(c_init)\n",
    "    return np.asarray(c)\n",
    "\n",
    "class canersHousehold:\n",
    "    \n",
    "    def __init__(self, \n",
    "                 r=0.03,\n",
    "                 w=1,\n",
    "                 β=0.96, \n",
    "                 Π_w=((0.6, 0.4), (0.05, 0.95)),\n",
    "                 Π_r_real=((0.6, 0.4, 0), (0.35, 0.6, 0.05), (0.35, 0.35, 0.3)),\n",
    "                 Π_r_belief=((0.6, 0.4, 0), (0.3, 0.6, 0.1), (0.35, 0.35, 0.3)),\n",
    "                 z_w_vals=(0.5, 1.0),\n",
    "                 z_r_vals=(1.5, 0.2, -0.5),\n",
    "                 b=0, \n",
    "                 grid_max=16, \n",
    "                 grid_size=50,\n",
    "                 du=lambda x: 1/x,\n",
    "                 mean_preserved = False, \n",
    "                 mean_and_var_preserved = False):\n",
    "        \n",
    "        # simplify names, set up array and change the input\n",
    "        # in a way so that you can adjust the coleman operator\n",
    "        # and the simulation of assets, \n",
    "        # belief trans. matrix -> in coleman operator\n",
    "        \n",
    "        self.du, self.w, self.r = du, w, r\n",
    "        self.grid_max, self.grid_size = grid_max, grid_size\n",
    "        self.Π_w, self.z_w_vals = Π_w, z_w_vals\n",
    "        self.β, self.b = β, b\n",
    "        self.asset_grid = np.linspace(-b, grid_max, grid_size)\n",
    "        self.mean_preserved = mean_preserved\n",
    "        self.mean_and_var_preserved = mean_and_var_preserved\n",
    "        \n",
    "        self.Π_r_belief = np.asarray(Π_r_belief) \n",
    "        \n",
    "        self.Π_r_real = np.asarray(Π_r_real)\n",
    "        \n",
    "        self.z_r_vals = np.asarray(z_r_vals)\n",
    "        \n",
    "        # perceived values\n",
    "        \n",
    "        if mean_preserved: \n",
    "            self.z_r_vals_mps = mean_preserving_states(self.z_r_vals,\n",
    "                                                       self.Π_r_real,\n",
    "                                                       self.Π_r_belief,\n",
    "                                                       1e-7)\n",
    "        elif mean_and_var_preserved:\n",
    "            self.z_r_vals_mps = mean_and_var_preserving_states(self.z_r_vals,\n",
    "                                                               self.Π_r_real,\n",
    "                                                               self.Π_r_belief,\n",
    "                                                               1e-4)\n",
    "        \n",
    "        # take the new transition matrices and combine them with\n",
    "        # the transition matrix for the wage shock in order\n",
    "        # to get Π_belief, Π_real and z_vals\n",
    "        \n",
    "        if mean_preserved or mean_and_var_preserved:\n",
    "            self.z_belief = Pair(a_vals=self.z_r_vals_mps, # use perceived values here\n",
    "                                 b_vals=z_w_vals,\n",
    "                                 P_a=self.Π_r_belief,\n",
    "                                 P_b=Π_w)\n",
    "        else:\n",
    "            \n",
    "            self.z_belief = Pair(a_vals=self.z_r_vals,\n",
    "                                 b_vals=z_w_vals,\n",
    "                                 P_a=self.Π_r_belief,\n",
    "                                 P_b=Π_w)\n",
    "        \n",
    "        self.z_real = Pair(a_vals=self.z_r_vals,\n",
    "                           b_vals=z_w_vals,\n",
    "                           P_a=self.Π_r_real,\n",
    "                           P_b=Π_w)\n",
    "        \n",
    "        # you need two different state spaces, one for the simulation of the \n",
    "        # markov chain which needs the real values and the other one\n",
    "        # for the operator which needs the belief values\n",
    "        \n",
    "        self.z_vals, self.z_belief_vals = self.z_real.s_vals, self.z_belief.s_vals\n",
    "        self.Π_belief, self.Π_real = self.z_belief.Q, self.z_real.Q\n",
    "\n",
    "\n",
    "def belief_operator(c, cp):\n",
    "    \n",
    "    # === simplify names, set up arrays === #\n",
    "    r, Π_belief, β, du, b, w = cp.r, cp.Π_belief, cp.β, cp.du, cp.b, cp.w\n",
    "    asset_grid, z_belief_vals = cp.asset_grid, cp.z_belief_vals\n",
    "    z_size = len(z_belief_vals)\n",
    "    vals = np.empty(z_size)\n",
    "    \n",
    "    def cf(a):\n",
    "        for i in range(z_size):\n",
    "            vals[i] = np.interp(a, asset_grid, c[:,i])\n",
    "        return vals\n",
    "    \n",
    "    Kc = np.empty(c.shape)\n",
    "    for i_a, a in enumerate(asset_grid):\n",
    "        for i_z, z in enumerate(z_belief_vals):\n",
    "            z_r, z_w = z[0], z[1]\n",
    "            def h(t):\n",
    "                expectation = np.dot(du(cf((1+r*z_r) * a + w * z_w - t)), Π_belief[i_z,:])\n",
    "                return du(t) - max((1+r*z_r) * β * expectation, du((1+r*z_r) * a + w * z_w + b))\n",
    "            Kc[i_a, i_z] = brentq(h, 1e-8, (1+r*z_r) * a + w * z_w + b)\n",
    "    return Kc\n",
    "\n",
    "def initialize(cp):\n",
    "    # === Simplify names, set up arrays === #\n",
    "    r, b, w = cp.r, cp.b, cp.w\n",
    "    asset_grid, z_vals = cp.asset_grid, cp.z_belief_vals\n",
    "    shape = len(asset_grid), len(z_vals)\n",
    "    c = np.empty(shape)\n",
    "    \n",
    "    for i_a, a in enumerate(asset_grid):\n",
    "        for i_z, z in enumerate(z_vals):\n",
    "                z_r, z_w = z[0], z[1]\n",
    "                c_max = (1+r*z_r) * a + w * z_w + b\n",
    "                c[i_a, i_z] = c_max\n",
    "    return c\n",
    "\n",
    "def pessimistic_asset_series(cp,\n",
    "                             T=250000,\n",
    "                             max_iter=150):\n",
    "    \"\"\"\n",
    "    Simulates a time series of length T for assets, given optimal savings\n",
    "    behavior and pessimistic Beliefs. Parameter cp is an instance of canersPessimist.\n",
    "    \"\"\"\n",
    "    \n",
    "    Π_real, z_vals, r, w = cp.Π_real, cp.z_vals, cp.r, cp.w\n",
    "    mc = MarkovChain(Π_real)\n",
    "    c_init = initialize(cp)\n",
    "    K = lambda c: belief_operator(c, cp)\n",
    "    c = fixed_point(K=K, c_init=c_init, max_iter=max_iter)\n",
    "    cf = lambda a, i_z: np.interp(a, cp.asset_grid, c[:, i_z])\n",
    "    a = np.zeros(T+1)\n",
    "    interest_rates = np.zeros(T)\n",
    "    a[0]=1e-5\n",
    "    z_seq = mc.simulate(T)\n",
    "    for t in range(T):\n",
    "        i_z = z_seq[t]\n",
    "        a[t+1] = (1+r*z_vals[i_z][0]) * a[t] + w * z_vals[i_z][1] - cf(a[t], i_z)\n",
    "        interest_rates[t] = r*z_vals[i_z][0]\n",
    "    return a, interest_rates"
   ]
  },
  {
   "cell_type": "code",
   "execution_count": 66,
   "metadata": {},
   "outputs": [
    {
     "data": {
      "text/plain": [
       "array([[ 1.65188765,  0.5       ],\n",
       "       [ 0.2       ,  0.5       ],\n",
       "       [-0.47520202,  0.5       ],\n",
       "       [ 1.65188765,  1.        ],\n",
       "       [ 0.2       ,  1.        ],\n",
       "       [-0.47520202,  1.        ]])"
      ]
     },
     "execution_count": 66,
     "metadata": {},
     "output_type": "execute_result"
    }
   ],
   "source": [
    "cp = canersHousehold(mean_preserved=True)\n",
    "cp.z_belief_vals"
   ]
  },
  {
   "cell_type": "code",
   "execution_count": 67,
   "metadata": {},
   "outputs": [
    {
     "name": "stdout",
     "output_type": "stream",
     "text": [
      "real matrix: \n",
      " \n",
      "[[ 0.6    0.2    0.2    0.   ]\n",
      " [ 0.395  0.3    0.3    0.005]\n",
      " [ 0.395  0.3    0.3    0.005]\n",
      " [ 0.35   0.175  0.175  0.3  ]]\n",
      "\n",
      " \n",
      " belief matrix: \n",
      " \n",
      "[[ 0.6     0.2     0.2     0.    ]\n",
      " [ 0.1975  0.6     0.1975  0.005 ]\n",
      " [ 0.      0.      0.6     0.4   ]\n",
      " [ 0.35    0.35    0.      0.3   ]]\n",
      "\n",
      " \n",
      " state space: \n",
      " \n",
      "[ 1.5   0.02  0.02 -0.5 ]\n"
     ]
    }
   ],
   "source": [
    "# After that, I will simulate the asset choices given a interest rate, \n",
    "# compute the variance of the assets series and compare them.\n",
    "P1, P3, epsilon, z_r_vals = 0.6, 0.3, 0.005, [1.5, 0.02, -0.5]\n",
    "Π_r_real, Π_r_belief, z_r_vals = belief_decompose(trans_mat(P1, P3, epsilon),\n",
    "                                              z_r_vals)\n",
    "print('real matrix: \\n \\n{}'.format(Π_r_real))\n",
    "print('\\n \\n belief matrix: \\n \\n{}'.format(Π_r_belief))\n",
    "print('\\n \\n state space: \\n \\n{}'.format(z_r_vals))"
   ]
  },
  {
   "cell_type": "code",
   "execution_count": 68,
   "metadata": {
    "collapsed": true
   },
   "outputs": [],
   "source": [
    "import matplotlib.pyplot as plt\n",
    "# create an instance of the household\n",
    "\n",
    "# 2. case, pessimistic\n",
    "\n",
    "Π_w, z_w_vals = (1), [1]\n",
    "r=0.03\n",
    "hh2 = canersHousehold(r=0.03,\n",
    "                     b=0,\n",
    "                     Π_r_real=Π_r_real, \n",
    "                     Π_r_belief=Π_r_belief,\n",
    "                     Π_w=Π_w,\n",
    "                     z_r_vals=z_r_vals, \n",
    "                     z_w_vals=z_w_vals)\n",
    "\n",
    "#simulate the asset series\n",
    "T=1000000\n",
    "max_iter=300\n",
    "a_p, r_p = pessimistic_asset_series(hh2,\n",
    "                                    T=T,\n",
    "                                    max_iter=max_iter)\n"
   ]
  },
  {
   "cell_type": "code",
   "execution_count": 69,
   "metadata": {
    "collapsed": true
   },
   "outputs": [],
   "source": [
    "# create an instance of the household\n",
    "\n",
    "# 1. case, non-pessimistic\n",
    "\n",
    "hh1 = canersHousehold(r=0.03,\n",
    "                     b=0,\n",
    "                     Π_r_real=Π_r_real, \n",
    "                     Π_r_belief=Π_r_real, # use the real matrix twice\n",
    "                     Π_w=Π_w,\n",
    "                     z_r_vals=z_r_vals, \n",
    "                     z_w_vals=z_w_vals)\n",
    "\n",
    "#simulate the asset series\n",
    "T=1000000\n",
    "max_iter=300\n",
    "a_np, r_np = pessimistic_asset_series(hh1,\n",
    "                                      T=T,\n",
    "                                      max_iter=max_iter)"
   ]
  },
  {
   "cell_type": "code",
   "execution_count": 70,
   "metadata": {
    "collapsed": true
   },
   "outputs": [],
   "source": [
    "# create an instance of the household\n",
    "\n",
    "# 3. case, with pessimistic beliefs, mean-preserved-spread\n",
    "\n",
    "hh3 = canersHousehold(r=0.03,\n",
    "                     b=0,\n",
    "                     Π_r_real=Π_r_real, \n",
    "                     Π_r_belief=Π_r_belief,\n",
    "                     Π_w=Π_w,\n",
    "                     z_r_vals=z_r_vals, \n",
    "                     z_w_vals=z_w_vals,\n",
    "                     mean_preserved=True)\n",
    "\n",
    "#simulate the asset series\n",
    "T=1000000\n",
    "max_iter=300\n",
    "a_p_mp, r_p_mp = pessimistic_asset_series(hh3,\n",
    "                                          T=T,\n",
    "                                          max_iter=max_iter)"
   ]
  },
  {
   "cell_type": "code",
   "execution_count": 71,
   "metadata": {},
   "outputs": [
    {
     "name": "stdout",
     "output_type": "stream",
     "text": [
      "means_err: 8.009267965114475e-05\n",
      "variance_err: 9.50822539835805e-06, real: 0.7425326496465772, belief: 0.7425421578719755\n",
      "r-shock state values: [ 1.86566111  0.48876377  0.48876377 -0.26016058]\n"
     ]
    }
   ],
   "source": [
    "# create an instance of the household\n",
    "\n",
    "# 4. case, with pessimistic beliefs, mean and var preserved\n",
    "\n",
    "hh4 = canersHousehold(r=0.03,\n",
    "                      b=0,\n",
    "                      Π_r_real=Π_r_real, \n",
    "                      Π_r_belief=Π_r_belief,\n",
    "                      Π_w=Π_w,\n",
    "                      z_r_vals=z_r_vals, \n",
    "                      z_w_vals=z_w_vals,\n",
    "                      mean_and_var_preserved = True)\n",
    "\n",
    "#simulate the asset series\n",
    "T=1000000\n",
    "max_iter=300\n",
    "a_p_mvp, r_p_mvp = pessimistic_asset_series(hh4,\n",
    "                                          T=T,\n",
    "                                          max_iter=max_iter)"
   ]
  },
  {
   "cell_type": "code",
   "execution_count": 72,
   "metadata": {},
   "outputs": [
    {
     "data": {
      "text/plain": [
       "array([[ 2.82643065,  1.        ],\n",
       "       [ 0.02      ,  1.        ],\n",
       "       [ 0.02      ,  1.        ],\n",
       "       [-0.3       ,  1.        ]])"
      ]
     },
     "execution_count": 72,
     "metadata": {},
     "output_type": "execute_result"
    }
   ],
   "source": [
    "hh.z_belief_vals"
   ]
  },
  {
   "cell_type": "code",
   "execution_count": 73,
   "metadata": {},
   "outputs": [
    {
     "data": {
      "text/plain": [
       "(-5.0018048542969167,\n",
       " -4.7891174047688176,\n",
       " -2.2451048534343858,\n",
       " -3.2005852805492805)"
      ]
     },
     "execution_count": 73,
     "metadata": {},
     "output_type": "execute_result"
    }
   ],
   "source": [
    "std_ap, std_anp, std_apmp, std_apmvp = np.sqrt(np.var(np.log(a_p))), np.sqrt(np.var(np.log(a_np))), np.sqrt(np.var(np.log(a_p_mp))), np.sqrt(np.var(np.log(a_p_mvp)))\n",
    "std_ap, std_anp, std_apmp, std_apmvp\n",
    "\n",
    "mean_ap, mean_anp, mean_apmp, mean_apmvp = np.mean(np.log(a_p)), np.mean(np.log(a_np)), np.mean(np.log(a_p_mp)), np.mean(np.log(a_p_mvp)) \n",
    "mean_ap, mean_anp, mean_apmp, mean_apmvp"
   ]
  },
  {
   "cell_type": "code",
   "execution_count": 74,
   "metadata": {},
   "outputs": [
    {
     "data": {
      "text/plain": [
       "(0.022603294799999986,\n",
       " 0.022604973599999998,\n",
       " 0.022667592000000004,\n",
       " 0.022593658799999992)"
      ]
     },
     "execution_count": 74,
     "metadata": {},
     "output_type": "execute_result"
    }
   ],
   "source": [
    "std_rp, std_rnp, std_rpmp, std_rpmvp = np.sqrt(np.var(r_p)), np.sqrt(np.var(r_np)), np.sqrt(np.var(r_p_mp)), np.sqrt(np.var(r_p_mvp))\n",
    "std_rp, std_rnp, std_rpmp, std_rpmvp\n",
    "\n",
    "mean_rp, mean_rnp, mean_rpmp, mean_rpmvp = np.mean(r_p), np.mean(r_np), np.mean(r_p_mp), np.mean(r_p_mvp) \n",
    "mean_rp, mean_rnp, mean_rpmp, mean_rpmvp"
   ]
  },
  {
   "cell_type": "code",
   "execution_count": 75,
   "metadata": {
    "scrolled": true
   },
   "outputs": [
    {
     "data": {
      "text/html": [
       "<div>\n",
       "<style>\n",
       "    .dataframe thead tr:only-child th {\n",
       "        text-align: right;\n",
       "    }\n",
       "\n",
       "    .dataframe thead th {\n",
       "        text-align: left;\n",
       "    }\n",
       "\n",
       "    .dataframe tbody tr th {\n",
       "        vertical-align: top;\n",
       "    }\n",
       "</style>\n",
       "<table border=\"1\" class=\"dataframe\">\n",
       "  <thead>\n",
       "    <tr style=\"text-align: right;\">\n",
       "      <th></th>\n",
       "      <th>mean</th>\n",
       "      <th>std</th>\n",
       "    </tr>\n",
       "    <tr>\n",
       "      <th>log-assets</th>\n",
       "      <th></th>\n",
       "      <th></th>\n",
       "    </tr>\n",
       "  </thead>\n",
       "  <tbody>\n",
       "    <tr>\n",
       "      <th>non-pessisimistic assets</th>\n",
       "      <td>-4.789117</td>\n",
       "      <td>0.799966</td>\n",
       "    </tr>\n",
       "    <tr>\n",
       "      <th>pessisimistic assets</th>\n",
       "      <td>-5.001805</td>\n",
       "      <td>0.917110</td>\n",
       "    </tr>\n",
       "    <tr>\n",
       "      <th>pessisimistic assets, mean-preserved</th>\n",
       "      <td>-2.245105</td>\n",
       "      <td>0.810324</td>\n",
       "    </tr>\n",
       "    <tr>\n",
       "      <th>pessisimistic assets, mean-var-preserved</th>\n",
       "      <td>-3.200585</td>\n",
       "      <td>0.736879</td>\n",
       "    </tr>\n",
       "  </tbody>\n",
       "</table>\n",
       "</div>"
      ],
      "text/plain": [
       "                                              mean       std\n",
       "log-assets                                                  \n",
       "non-pessisimistic assets                 -4.789117  0.799966\n",
       "pessisimistic assets                     -5.001805  0.917110\n",
       "pessisimistic assets, mean-preserved     -2.245105  0.810324\n",
       "pessisimistic assets, mean-var-preserved -3.200585  0.736879"
      ]
     },
     "execution_count": 75,
     "metadata": {},
     "output_type": "execute_result"
    }
   ],
   "source": [
    "import pandas as pd\n",
    "\n",
    "assets = [{'log-assets': 'non-pessisimistic assets', 'mean': mean_anp, 'std': std_anp},\n",
    "         {'log-assets': 'pessisimistic assets',  'mean': mean_ap, 'std': std_ap},\n",
    "         {'log-assets': 'pessisimistic assets, mean-preserved',  'mean': mean_apmp,  'std': std_apmp},\n",
    "         {'log-assets': 'pessisimistic assets, mean-var-preserved',  'mean': mean_apmvp,  'std': std_apmvp}]\n",
    "dfa = pd.DataFrame(assets)\n",
    "dfa0 = dfa.set_index('log-assets')\n",
    "dfa0"
   ]
  },
  {
   "cell_type": "code",
   "execution_count": 76,
   "metadata": {},
   "outputs": [
    {
     "data": {
      "text/html": [
       "<div>\n",
       "<style>\n",
       "    .dataframe thead tr:only-child th {\n",
       "        text-align: right;\n",
       "    }\n",
       "\n",
       "    .dataframe thead th {\n",
       "        text-align: left;\n",
       "    }\n",
       "\n",
       "    .dataframe tbody tr th {\n",
       "        vertical-align: top;\n",
       "    }\n",
       "</style>\n",
       "<table border=\"1\" class=\"dataframe\">\n",
       "  <thead>\n",
       "    <tr style=\"text-align: right;\">\n",
       "      <th></th>\n",
       "      <th>mean</th>\n",
       "      <th>std</th>\n",
       "    </tr>\n",
       "    <tr>\n",
       "      <th>interest-rates</th>\n",
       "      <th></th>\n",
       "      <th></th>\n",
       "    </tr>\n",
       "  </thead>\n",
       "  <tbody>\n",
       "    <tr>\n",
       "      <th>non-pessisimistic case</th>\n",
       "      <td>0.022605</td>\n",
       "      <td>0.022272</td>\n",
       "    </tr>\n",
       "    <tr>\n",
       "      <th>pessisimistic case</th>\n",
       "      <td>0.022603</td>\n",
       "      <td>0.022275</td>\n",
       "    </tr>\n",
       "    <tr>\n",
       "      <th>pessisimistic case, mean-preserved</th>\n",
       "      <td>0.022668</td>\n",
       "      <td>0.022278</td>\n",
       "    </tr>\n",
       "    <tr>\n",
       "      <th>pessisimistic case, mean-var-preserved</th>\n",
       "      <td>0.022594</td>\n",
       "      <td>0.022275</td>\n",
       "    </tr>\n",
       "  </tbody>\n",
       "</table>\n",
       "</div>"
      ],
      "text/plain": [
       "                                            mean       std\n",
       "interest-rates                                            \n",
       "non-pessisimistic case                  0.022605  0.022272\n",
       "pessisimistic case                      0.022603  0.022275\n",
       "pessisimistic case, mean-preserved      0.022668  0.022278\n",
       "pessisimistic case, mean-var-preserved  0.022594  0.022275"
      ]
     },
     "execution_count": 76,
     "metadata": {},
     "output_type": "execute_result"
    }
   ],
   "source": [
    "interest_rates = [{'interest-rates': 'non-pessisimistic case', 'mean': mean_rnp, 'std': std_rnp},\n",
    "         {'interest-rates': 'pessisimistic case',  'mean': mean_rp, 'std': std_rp},\n",
    "         {'interest-rates': 'pessisimistic case, mean-preserved',  'mean': mean_rpmp,  'std': std_rpmp},\n",
    "         {'interest-rates': 'pessisimistic case, mean-var-preserved',  'mean': mean_rpmvp,  'std': std_rpmvp}]\n",
    "dfi = pd.DataFrame(interest_rates)\n",
    "dfi0 = dfi.set_index('interest-rates')\n",
    "dfi0"
   ]
  },
  {
   "cell_type": "code",
   "execution_count": 77,
   "metadata": {
    "collapsed": true
   },
   "outputs": [],
   "source": [
    "from quantecon import MarkovChain\n",
    "z_r_vals_mps = hh3.z_r_vals_mps\n",
    "z_r_vals_mvp = hh4.z_r_vals_mps\n",
    "\n",
    "# Let's simulate the interest rates how they are perceived by the agents in each case\n",
    "T=1000000\n",
    "r=0.03\n",
    "# 1. case, non-pessimistic\n",
    "perceived_mc_np = MarkovChain(Π_r_real, state_values=r*z_r_vals)\n",
    "pr_np = perceived_mc_np.simulate(T)\n",
    "\n",
    "# 2. case, pessimmistic\n",
    "perceived_mc_p = MarkovChain(Π_r_belief, state_values=r*z_r_vals)\n",
    "pr_p = perceived_mc_p.simulate(T)\n",
    "\n",
    "\n",
    "# 3. case, pessimistic mean-presreved \n",
    "perceived_mc_pmp = MarkovChain(Π_r_belief, state_values=r*z_r_vals_mps)\n",
    "pr_p_mp = perceived_mc_pmp.simulate(T)\n",
    "\n",
    "# 3. case, pessimistic mean-and-var-presreved \n",
    "perceived_mc_pmvp = MarkovChain(Π_r_belief, state_values=r*z_r_vals_mvp)\n",
    "pr_p_mvp = perceived_mc_pmvp.simulate(T)"
   ]
  },
  {
   "cell_type": "code",
   "execution_count": 78,
   "metadata": {},
   "outputs": [
    {
     "data": {
      "text/plain": [
       "(0.02218289795334253,\n",
       " 0.022273730617619513,\n",
       " 0.038863347534608468,\n",
       " 0.022269455597158382)"
      ]
     },
     "execution_count": 78,
     "metadata": {},
     "output_type": "execute_result"
    }
   ],
   "source": [
    "pstd_rp, pstd_rnp, pstd_rpmp, pstd_rpmvp = np.sqrt(np.var(pr_p)), np.sqrt(np.var(pr_np)), np.sqrt(np.var(pr_p_mp)), np.sqrt(np.var(pr_p_mvp))\n",
    "pstd_rp, pstd_rnp, pstd_rpmp, pstd_rpmvp"
   ]
  },
  {
   "cell_type": "code",
   "execution_count": 79,
   "metadata": {},
   "outputs": [
    {
     "data": {
      "text/plain": [
       "(0.010489642799999995,\n",
       " 0.02267123519999999,\n",
       " 0.022525871333098201,\n",
       " 0.022630919789472601)"
      ]
     },
     "execution_count": 79,
     "metadata": {},
     "output_type": "execute_result"
    }
   ],
   "source": [
    "pmean_rp, pmean_rnp, pmean_rpmp, pmean_rpmvp = np.mean(pr_p), np.mean(pr_np), np.mean(pr_p_mp), np.mean(pr_p_mvp)\n",
    "pmean_rp, pmean_rnp, pmean_rpmp, pmean_rpmvp"
   ]
  },
  {
   "cell_type": "code",
   "execution_count": 80,
   "metadata": {},
   "outputs": [
    {
     "data": {
      "text/html": [
       "<div>\n",
       "<style>\n",
       "    .dataframe thead tr:only-child th {\n",
       "        text-align: right;\n",
       "    }\n",
       "\n",
       "    .dataframe thead th {\n",
       "        text-align: left;\n",
       "    }\n",
       "\n",
       "    .dataframe tbody tr th {\n",
       "        vertical-align: top;\n",
       "    }\n",
       "</style>\n",
       "<table border=\"1\" class=\"dataframe\">\n",
       "  <thead>\n",
       "    <tr style=\"text-align: right;\">\n",
       "      <th></th>\n",
       "      <th>mean</th>\n",
       "      <th>std</th>\n",
       "    </tr>\n",
       "    <tr>\n",
       "      <th>perceived interest-rates</th>\n",
       "      <th></th>\n",
       "      <th></th>\n",
       "    </tr>\n",
       "  </thead>\n",
       "  <tbody>\n",
       "    <tr>\n",
       "      <th>non-pessisimistic case</th>\n",
       "      <td>0.022671</td>\n",
       "      <td>0.022274</td>\n",
       "    </tr>\n",
       "    <tr>\n",
       "      <th>pessisimistic case</th>\n",
       "      <td>0.010490</td>\n",
       "      <td>0.022183</td>\n",
       "    </tr>\n",
       "    <tr>\n",
       "      <th>pessisimistic case, mean-preserved</th>\n",
       "      <td>0.022526</td>\n",
       "      <td>0.038863</td>\n",
       "    </tr>\n",
       "    <tr>\n",
       "      <th>pessisimistic case, mean-var-preserved</th>\n",
       "      <td>0.022631</td>\n",
       "      <td>0.022269</td>\n",
       "    </tr>\n",
       "  </tbody>\n",
       "</table>\n",
       "</div>"
      ],
      "text/plain": [
       "                                            mean       std\n",
       "perceived interest-rates                                  \n",
       "non-pessisimistic case                  0.022671  0.022274\n",
       "pessisimistic case                      0.010490  0.022183\n",
       "pessisimistic case, mean-preserved      0.022526  0.038863\n",
       "pessisimistic case, mean-var-preserved  0.022631  0.022269"
      ]
     },
     "execution_count": 80,
     "metadata": {},
     "output_type": "execute_result"
    }
   ],
   "source": [
    "perceived_interest_rates = [{'perceived interest-rates': 'non-pessisimistic case', 'mean': pmean_rnp, 'std': pstd_rnp},\n",
    "         {'perceived interest-rates': 'pessisimistic case',  'mean': pmean_rp, 'std': pstd_rp},\n",
    "         {'perceived interest-rates': 'pessisimistic case, mean-preserved',  'mean': pmean_rpmp,  'std': pstd_rpmp},\n",
    "         {'perceived interest-rates': 'pessisimistic case, mean-var-preserved',  'mean': pmean_rpmvp,  'std': pstd_rpmvp}]\n",
    "dfpi = pd.DataFrame(perceived_interest_rates)\n",
    "dfpi0 = dfpi.set_index('perceived interest-rates')\n",
    "dfpi0"
   ]
  },
  {
   "cell_type": "code",
   "execution_count": 81,
   "metadata": {
    "collapsed": true
   },
   "outputs": [],
   "source": [
    "dfa0.to_latex('variances.tex')\n",
    "dfi0.to_latex('variances2.tex')\n",
    "dfpi0.to_latex('variances3.tex')"
   ]
  },
  {
   "cell_type": "code",
   "execution_count": null,
   "metadata": {},
   "outputs": [],
   "source": [
    "pmean_rpmp"
   ]
  }
 ],
 "metadata": {
  "kernelspec": {
   "display_name": "Python 3",
   "language": "python",
   "name": "python3"
  },
  "language_info": {
   "codemirror_mode": {
    "name": "ipython",
    "version": 3
   },
   "file_extension": ".py",
   "mimetype": "text/x-python",
   "name": "python",
   "nbconvert_exporter": "python",
   "pygments_lexer": "ipython3",
   "version": "3.6.1"
  }
 },
 "nbformat": 4,
 "nbformat_minor": 2
}
