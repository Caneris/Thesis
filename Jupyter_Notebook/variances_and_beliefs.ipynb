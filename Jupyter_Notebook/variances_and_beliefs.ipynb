{
 "cells": [
  {
   "cell_type": "markdown",
   "metadata": {},
   "source": [
    "# Variances and Beliefs"
   ]
  },
  {
   "cell_type": "markdown",
   "metadata": {},
   "source": [
    "Here I want to see whether pessimistic beliefs have an impact on the variance of the assets or not. \n",
    "<br\\>\n",
    "* First, I will write a function that returns a belief decompostition of a transition matrix, a real transition matrix and a corresponding belief matrix with pessimistic beliefs.\n",
    "<br\\>\n",
    "* Then, I will write a class and corresponding functions, which distinguish between the two different kinds of transition matrices.\n",
    "<br\\>\n",
    "* After that, I will simulate the asset choices given a interest rate, compute the variance of the assets series and compare them.\n",
    "<br\\>\n",
    "* Finally, I will write a function which return a mean preserving spread of the state values given the belief matrix, then use that to compute another asset series which I can compare to the both before.\n",
    "\n"
   ]
  },
  {
   "cell_type": "code",
   "execution_count": 139,
   "metadata": {
    "collapsed": true
   },
   "outputs": [],
   "source": [
    "# First, I will write a function that returns a belief \n",
    "# decompostition of a transition matrix, a real transition \n",
    "# matrix and a corresponding belief matrix with pessimistic beliefs.\n",
    "\n",
    "import numpy as np\n",
    "from quantecon import MarkovChain\n",
    "\n",
    "def trans_mat(P1, P3, epsilon):\n",
    "    \"\"\"\n",
    "    Returns a transition matrix (for a markov chain) of the following form:\n",
    "        \n",
    "        Π = ((P1, P2, 0), (P2 - epsilon, P1, epsilon), (P4, P4, P3))\n",
    "    \n",
    "    where P2 = 1-P1 and P4 = 0.5*(1-P3)\n",
    "    \n",
    "    epsilon is the probability for the transition from the 2. to the \n",
    "    3. state.\n",
    "    P1 is the probability to stay in the current state if the \n",
    "    current state is the 1. or 2. state.\n",
    "    P3 ist the probability to stay in the 3rd state.\n",
    "    2*P4 ist the probability to get out of the 3rd state.\n",
    "    \"\"\"\n",
    "    P2, P4 = (1-P1), 0.5*(1-P3)\n",
    "    \n",
    "    Π = ((P1, P2, 0), (P2 - epsilon, P1, epsilon), (P4, P4, P3))\n",
    "    \n",
    "    return np.asarray(Π)\n",
    "\n",
    "\n",
    "def belief_decompose(Π, z_vals):\n",
    "    \n",
    "    \"\"\"\n",
    "    Belief decomposition for a 3x3 matrix with the follwowing form:\n",
    "        \n",
    "        Π = ((P1, P2, 0), (P2 - epsilon, P1, epsilon), (P4, P4, P3))\n",
    "        \n",
    "    The belief matrix has the following form:\n",
    "        \n",
    "        Π_belief = (( P1, 0.5*P2, 0.5*P2, 0), \n",
    "                    (0.5*(P2-epsilon), P1, 0.5*(P2-epsilon), epsilon), \n",
    "                    ( 0, 0, P1, 1 - P1), \n",
    "                    (P4, P4, 0, P3))\n",
    "    \"\"\"\n",
    "    \n",
    "    P1, P2, P3, P4 = Π[0][0], Π[0][1], Π[2][2], Π[2][0]\n",
    "    epsilon = Π[1][2]\n",
    "    \n",
    "    Π_belief = (( P1, 0.5*P2, 0.5*P2, 0), \n",
    "                (0.5*(P2-epsilon), P1, 0.5*(P2-epsilon), epsilon), \n",
    "                ( 0, 0, P1, 1 - P1), \n",
    "                (P4, P4, 0, P3))\n",
    "        \n",
    "    # rewrite the real transition matrix\n",
    "    Π_real = ((P1, 0.5*P2, 0.5*P2, 0),\n",
    "              (P2-epsilon, 0.5*P1, 0.5*P1, epsilon), \n",
    "              (P2-epsilon, 0.5*P1, 0.5*P1, epsilon), \n",
    "              (P4, 0.5*P4, 0.5*P4, P3))\n",
    "    \n",
    "    # adjust state space\n",
    "    z_vals = np.asarray(z_vals)\n",
    "    z_vals = np.insert(z_vals, 1, z_vals[1])\n",
    "    \n",
    "    return np.asarray(Π_real), np.asarray(Π_belief), np.asarray(z_vals)\n",
    "\n",
    "# write code with which you can compute a mean-preserving-spread\n",
    "# for the 'perceived' state space\n",
    "\n",
    "def exp_val(z_vals, P_z):\n",
    "    \"\"\"\n",
    "    This function gives you the weighted average of all states of a \n",
    "    markov chain in the long run.\n",
    "    \n",
    "    Parameters\n",
    "    -----------\n",
    "    \n",
    "    z_vals : state values of the markov chain\n",
    "    P_z : transition matrix\n",
    "    \"\"\"\n",
    "    mc = MarkovChain(P_z, state_values = z_vals) # get the stationary probs\n",
    "    return np.sum(mc.stationary_distributions * z_vals) # compute weighted average\n",
    "\n",
    "def mean_preserving_states(z_vals, Π_real, Π_belief, err_tol):\n",
    "    exp_real = exp_val(z_vals=z_vals, P_z=Π_real)\n",
    "    exp_belief = exp_val(z_vals=z_vals, P_z=Π_belief)\n",
    "    z_vals_new = np.array(z_vals)\n",
    "    diff = exp_real - exp_belief\n",
    "    n = len(z_vals)\n",
    "    \n",
    "    s_dist = MarkovChain(Π_belief).stationary_distributions[0]\n",
    "    w_high = s_dist[0]/(s_dist[0]+s_dist[-1]) #weight for high value state\n",
    "    w_neg = 1 - w_high # weight for negatiive value state\n",
    "    \n",
    "    while abs(diff) > err_tol:\n",
    "        if z_vals_new[-1] >= -0.3:\n",
    "            z_vals_new[-1] = -0.3\n",
    "            z_vals_new[0] = z_vals_new[0]+(w_high*diff)\n",
    "            exp_real = exp_val(z_vals=z_vals, P_z=Π_real)\n",
    "            exp_belief = exp_val(z_vals=z_vals_new, P_z=Π_belief)\n",
    "            diff = exp_real - exp_belief\n",
    "        else:\n",
    "            z_vals_new[0], z_vals_new[-1] = z_vals_new[0]+(w_high*diff), z_vals_new[-1]+(w_neg*diff)\n",
    "            exp_real = exp_val(z_vals=z_vals, P_z=Π_real)\n",
    "            exp_belief = exp_val(z_vals=z_vals_new, P_z=Π_belief)\n",
    "            diff = exp_real - exp_belief\n",
    "            #print('{}, {}'.format(exp_real, exp_belief))\n",
    "            \n",
    "    print('r-shock state values: {}'.format(np.asarray(z_vals_new)))\n",
    "    return np.asarray(z_vals_new)\n",
    "\n",
    "\n",
    "def mean_and_var_preserving_states(z_vals, Π_real, Π_belief, err_tol, T=1000000):\n",
    "    exp_real = exp_val(z_vals=z_vals, P_z=Π_real)\n",
    "    exp_belief = exp_val(z_vals=z_vals, P_z=Π_belief)\n",
    "    z_vals_new = np.array(z_vals)\n",
    "    diff_exp = exp_real - exp_belief\n",
    "    weights_exp = MarkovChain(Π_belief).stationary_distributions[0]\n",
    "    weights_exp[2] = weights_exp[1]\n",
    "    weights_exp = weights_exp/sum(weights_exp)\n",
    "    n = len(z_vals)\n",
    "    \n",
    "    var_real = np.sqrt(np.var(MarkovChain(Π_real, z_vals).simulate(T)))\n",
    "    var_belief = np.sqrt(np.var(MarkovChain(Π_belief, z_vals).simulate(T)))\n",
    "    weights_var = MarkovChain(Π_belief).stationary_distributions[0][0:3]\n",
    "    weights_var[2] = weights_var[1]\n",
    "    weights_var = weights_var/sum(weights_var)\n",
    "    diff_var = var_belief - var_real\n",
    "    \n",
    "    while abs(diff_exp) > err_tol or abs(diff_var) > err_tol:\n",
    "    \n",
    "        while abs(diff_exp) > err_tol:\n",
    "            for i, weight in enumerate(weights_exp):\n",
    "                z_vals_new[i] += weight*diff_exp\n",
    "        \n",
    "            exp_real = exp_val(z_vals=z_vals, P_z=Π_real)\n",
    "            exp_belief = exp_val(z_vals=z_vals_new, P_z=Π_belief)\n",
    "            diff_exp = exp_real - exp_belief\n",
    "        \n",
    "            var_real = np.sqrt(np.var(MarkovChain(Π_real, z_vals).simulate(T)))\n",
    "            var_belief = np.sqrt(np.var(MarkovChain(Π_belief, z_vals_new).simulate(T)))\n",
    "            diff_var = var_belief - var_real\n",
    "    \n",
    "        while abs(diff_var) > err_tol:\n",
    "            for i, weight in enumerate(weights_var):\n",
    "                if i == 0:\n",
    "                    z_vals_new[i] -= weight*diff_var\n",
    "                else:\n",
    "                    z_vals_new[i] += weight*diff_var\n",
    "                \n",
    "            exp_real = exp_val(z_vals=z_vals, P_z=Π_real)\n",
    "            exp_belief = exp_val(z_vals=z_vals_new, P_z=Π_belief)\n",
    "            diff_exp = exp_real - exp_belief\n",
    "        \n",
    "            var_real = np.sqrt(np.var(MarkovChain(Π_real, z_vals).simulate(T)))\n",
    "            var_belief = np.sqrt(np.var(MarkovChain(Π_belief, z_vals_new).simulate(T)))\n",
    "            diff_var = var_belief - var_real\n",
    "        \n",
    "    print('means_err: {}'.format(diff_exp))\n",
    "    print('variance_err: {}, real: {}, belief: {}'.format(diff_var, var_real, var_belief))\n",
    "    print('r-shock state values: {}'.format(np.asarray(z_vals_new)))\n",
    "    \n",
    "    return np.asarray(z_vals_new)\n",
    "\n"
   ]
  },
  {
   "cell_type": "code",
   "execution_count": 140,
   "metadata": {},
   "outputs": [
    {
     "name": "stdout",
     "output_type": "stream",
     "text": [
      "r-shock state values: [ 2.78814597  0.2         0.2        -0.3       ]\n"
     ]
    },
    {
     "data": {
      "text/plain": [
       "(0.84315029357999483, 0.84315037929495773)"
      ]
     },
     "execution_count": 140,
     "metadata": {},
     "output_type": "execute_result"
    }
   ],
   "source": [
    "P1, P3, epsilon = 0.6, 0.3, 0.005\n",
    "z_vals = (1.5, 0.2, -0.5)\n",
    "\n",
    "P_real, P_belief, z_vals = belief_decompose(trans_mat(P1,P3,epsilon), z_vals)\n",
    "\n",
    "z_vals_new = mean_preserving_states(z_vals, \n",
    "                                    P_real, \n",
    "                                    P_belief, \n",
    "                                    1e-7)\n",
    "\n",
    "# test whether the function works\n",
    "exp_val(z_vals_new, P_belief), exp_val(z_vals, P_real)"
   ]
  },
  {
   "cell_type": "code",
   "execution_count": 141,
   "metadata": {},
   "outputs": [
    {
     "name": "stdout",
     "output_type": "stream",
     "text": [
      "real matrix: \n",
      " \n",
      "[[ 0.6    0.2    0.2    0.   ]\n",
      " [ 0.395  0.3    0.3    0.005]\n",
      " [ 0.395  0.3    0.3    0.005]\n",
      " [ 0.35   0.175  0.175  0.3  ]]\n",
      "\n",
      " \n",
      " belief matrix: \n",
      " \n",
      "[[ 0.6     0.2     0.2     0.    ]\n",
      " [ 0.1975  0.6     0.1975  0.005 ]\n",
      " [ 0.      0.      0.6     0.4   ]\n",
      " [ 0.35    0.35    0.      0.3   ]]\n",
      "\n",
      " \n",
      " state space: \n",
      " \n",
      "[ 1.5  0.2  0.2 -0.5]\n"
     ]
    }
   ],
   "source": [
    "print('real matrix: \\n \\n{}'.format(P_real))\n",
    "print('\\n \\n belief matrix: \\n \\n{}'.format(P_belief))\n",
    "print('\\n \\n state space: \\n \\n{}'.format(z_vals))"
   ]
  },
  {
   "cell_type": "markdown",
   "metadata": {},
   "source": [
    "When we are working with beliefs, we have to keep in mind that there are two kinds of 'realities' in this model.\n",
    "<br\\>\n",
    "<br\\>\n",
    "One is the 'actual' reality where the 'real' values are realized by the 'real' transition matrix. The other one is the agent's 'belief-reality' where the agent makes decisions based on a belief-transition-matrix, he perceives the realizations differently than they are in the actual reality of the simulation of this model.\n",
    "<br\\>\n",
    "<br\\>\n",
    "We are using a pessimistic belief-matrix. Consequently, in the agent's 'belief-reality', the realization of the interest rates will be much lower in average. Thus, the marginal utility of the assets will be much lower and then it's not so suprising that the agent is going to save less.\n",
    "<br\\>\n",
    "<br\\>\n",
    "That's why I have written a code, which computes a mean-preserving-spread of the state values. When simulating the pessimistic case with a mean_preserving-spread, I should put the new state values only into the expactation of the agents as they are only the values of the states which are perceived by the agent and not the 'real' values."
   ]
  },
  {
   "cell_type": "code",
   "execution_count": 149,
   "metadata": {
    "collapsed": true
   },
   "outputs": [],
   "source": [
    "# Then, I will write a class and corresponding functions, \n",
    "# which distinguish between the two different \n",
    "# kinds of transition matrices.\n",
    "\n",
    "import numpy as np\n",
    "from scipy.optimize import brentq\n",
    "from quantecon import MarkovChain\n",
    "\n",
    "class Pair:\n",
    "    \"\"\"\n",
    "    This class, takes two independent markov processes, \n",
    "    combines their state spaces\n",
    "    and gives the corresponding transition matrix.\n",
    "    \"\"\"    \n",
    "    \n",
    "    def __init__(self,\n",
    "                 a_vals = [0, 1], # state values of the first mc\n",
    "                 b_vals = [1, 0], # state values of the second mc\n",
    "                 P_a = [[0.9, 0.1], [0.1, 0.9]],\n",
    "                 P_b = [[0.8, 0.2], [0.2, 0.8]]):\n",
    "        \n",
    "        self.a_vals = np.asarray(a_vals)\n",
    "        self.b_vals = np.asarray(b_vals)\n",
    "        self.P_a = np.asarray(P_a)\n",
    "        self.P_b = np.asarray(P_b)\n",
    "        self.n = len(a_vals) * len(b_vals)\n",
    "        \n",
    "        # Build the array with combined state values\n",
    "        self.s_vals = make_statespace(self.a_vals, self.b_vals)\n",
    "        \n",
    "        # Combine both transition matrices\n",
    "        self.Q = np.kron(self.P_b, self.P_a)\n",
    "    \n",
    "\n",
    "def make_statespace(a, b):\n",
    "    \"\"\"\n",
    "    returns state space s_vals, when two statespaces of two independend markov \n",
    "    chains a, b are combined to s:=(a_state, b_state)\n",
    "    \n",
    "    Parameters\n",
    "    ----------\n",
    "    a,b : state spaces in form of numpy arrays containing the state values of\n",
    "          the two markov chains a and b.\n",
    "          \n",
    "    Returns\n",
    "    ---------\n",
    "    state space vector : Returns a two-dimentional array \n",
    "                         [[a_state1, b_state1], [a_state2, b_state1], ...etc]\n",
    "    \"\"\"\n",
    "    \n",
    "    s_vals = []\n",
    "\n",
    "    for j in range(len(b)):\n",
    "        for i in range(len(a)):\n",
    "            s_vals.append([a[i], b[j]])\n",
    "    return np.array(s_vals)\n",
    "\n",
    "def fixed_point(K, c_init, err_tol=1e-3, max_iter=300):\n",
    "    i, c = 0, K(c_init)\n",
    "    if np.linalg.norm((c-c_init))<err_tol:\n",
    "        return c\n",
    "    while max_iter>i and np.linalg.norm((c-c_init))>=err_tol:\n",
    "        i=i+1\n",
    "        c_init=c\n",
    "        c=K(c_init)\n",
    "    return np.asarray(c)\n",
    "\n",
    "class canersHousehold:\n",
    "    \n",
    "    def __init__(self, \n",
    "                 r=0.03,\n",
    "                 w=1,\n",
    "                 β=0.96, \n",
    "                 Π_w=((0.6, 0.4), (0.05, 0.95)),\n",
    "                 Π_r_real=((0.6, 0.4, 0), (0.35, 0.6, 0.05), (0.35, 0.35, 0.3)),\n",
    "                 Π_r_belief=((0.6, 0.4, 0), (0.3, 0.6, 0.1), (0.35, 0.35, 0.3)),\n",
    "                 z_w_vals=(0.5, 1.0),\n",
    "                 z_r_vals=(1.5, 0.2, -0.5),\n",
    "                 b=0, \n",
    "                 grid_max=16, \n",
    "                 grid_size=50,\n",
    "                 du=lambda x: 1/x,\n",
    "                 mean_preserved = False, \n",
    "                 mean_and_var_preserved = False):\n",
    "        \n",
    "        # simplify names, set up array and change the input\n",
    "        # in a way so that you can adjust the coleman operator\n",
    "        # and the simulation of assets, \n",
    "        # belief trans. matrix -> in coleman operator\n",
    "        \n",
    "        self.du, self.w, self.r = du, w, r\n",
    "        self.grid_max, self.grid_size = grid_max, grid_size\n",
    "        self.Π_w, self.z_w_vals = Π_w, z_w_vals\n",
    "        self.β, self.b = β, b\n",
    "        self.asset_grid = np.linspace(-b, grid_max, grid_size)\n",
    "        self.mean_preserved = mean_preserved\n",
    "        self.mean_and_var_preserved = mean_and_var_preserved\n",
    "        \n",
    "        self.Π_r_belief = np.asarray(Π_r_belief) \n",
    "        \n",
    "        self.Π_r_real = np.asarray(Π_r_real)\n",
    "        \n",
    "        self.z_r_vals = np.asarray(z_r_vals)\n",
    "        \n",
    "        # perceived values\n",
    "        \n",
    "        if mean_preserved: \n",
    "            self.z_r_vals_belief = mean_preserving_states(self.z_r_vals,\n",
    "                                                       self.Π_r_real,\n",
    "                                                       self.Π_r_belief,\n",
    "                                                       1e-7)\n",
    "        elif mean_and_var_preserved:\n",
    "            self.z_r_vals_belief = mean_and_var_preserving_states(self.z_r_vals,\n",
    "                                                               self.Π_r_real,\n",
    "                                                               self.Π_r_belief,\n",
    "                                                               1e-4)\n",
    "        else:\n",
    "            self.z_r_vals_belief = np.asarray(z_r_vals)\n",
    "        \n",
    "        # take the new transition matrices and combine them with\n",
    "        # the transition matrix for the wage shock in order\n",
    "        # to get Π_belief, Π_real and z_vals\n",
    "        \n",
    "        self.z_belief = Pair(a_vals=self.z_r_vals_belief, # use perceived values here\n",
    "                                 b_vals=z_w_vals,\n",
    "                                 P_a=self.Π_r_belief,\n",
    "                                 P_b=Π_w)\n",
    "        \n",
    "        self.z_real = Pair(a_vals=self.z_r_vals,\n",
    "                           b_vals=z_w_vals,\n",
    "                           P_a=self.Π_r_real,\n",
    "                           P_b=Π_w)\n",
    "        \n",
    "        # you need two different state spaces, one for the simulation of the \n",
    "        # markov chain which needs the real values and the other one\n",
    "        # for the operator which needs the belief values\n",
    "        \n",
    "        self.z_vals, self.z_belief_vals = self.z_real.s_vals, self.z_belief.s_vals\n",
    "        self.Π_belief, self.Π_real = self.z_belief.Q, self.z_real.Q\n",
    "\n",
    "\n",
    "def belief_operator(c, cp):\n",
    "    \n",
    "    # === simplify names, set up arrays === #\n",
    "    r, Π_belief, Π_r_belief, β, du, b, w = cp.r, cp.Π_belief, cp.Π_r_belief, cp.β, cp.du, cp.b, cp.w\n",
    "    asset_grid, z_belief_vals, z_r_vals = cp.asset_grid, cp.z_belief_vals, cp.z_r_vals_belief\n",
    "    z_w_vals = cp.z_w_vals\n",
    "    z_size = len(z_belief_vals)\n",
    "    vals = np.empty(z_size)\n",
    "    \n",
    "    def cf(a):\n",
    "        for i in range(z_size):\n",
    "            vals[i] = np.interp(a, asset_grid, c[:,i])\n",
    "        return vals\n",
    "    \n",
    "    Kc = np.empty(c.shape)\n",
    "    for i_a, a in enumerate(asset_grid):\n",
    "        for i_z, z in enumerate(z_belief_vals):\n",
    "            z_r, z_w = z[0], z[1]\n",
    "            i_zr = i_z % len(z_r_vals) # get index for r-shock\n",
    "            def h(t):\n",
    "                expected_r = r*np.dot(z_r_vals, Π_r_belief[i_zr,:])\n",
    "                expectation = np.dot(du(cf((1+r*z_r) * a + w * z_w - t)), Π_belief[i_z,:])\n",
    "                return du(t) - max((1+expected_r) * β * expectation, du((1+r*z_r) * a + w * z_w + b))\n",
    "            Kc[i_a, i_z] = brentq(h, 1e-8, (1+r*z_r) * a + w * z_w + b)\n",
    "    return Kc\n",
    "\n",
    "#    Kc = np.empty(c.shape)\n",
    "#    for i_a, a in enumerate(asset_grid):\n",
    "#        for i_z, z in enumerate(z_belief_vals):\n",
    "#            z_r, z_w = z[0], z[1]\n",
    "#            def h(t):\n",
    "#                expectation = np.dot(np.multiply(1+r*np.tile(z_r_vals,len(z_w_vals)),du(cf((1+r*z_r) * a + w * z_w - t))), Π_belief[i_z,:])\n",
    "#                return du(t) - max(β * expectation, du((1+r*z_r) * a + w * z_w + b))\n",
    "#            Kc[i_a, i_z] = brentq(h, 1e-8, (1+r*z_r) * a + w * z_w + b)\n",
    "#    return Kc\n",
    "\n",
    "\n",
    "def initialize(cp):\n",
    "    # === Simplify names, set up arrays === #\n",
    "    r, b, w = cp.r, cp.b, cp.w\n",
    "    asset_grid, z_vals = cp.asset_grid, cp.z_belief_vals\n",
    "    shape = len(asset_grid), len(z_vals)\n",
    "    c = np.empty(shape)\n",
    "    \n",
    "    for i_a, a in enumerate(asset_grid):\n",
    "        for i_z, z in enumerate(z_vals):\n",
    "                z_r, z_w = z[0], z[1]\n",
    "                c_max = (1+r*z_r) * a + w * z_w + b\n",
    "                c[i_a, i_z] = c_max\n",
    "    return c\n",
    "\n",
    "def pessimistic_asset_series(cp,\n",
    "                             T=250000,\n",
    "                             max_iter=150):\n",
    "    \"\"\"\n",
    "    Simulates a time series of length T for assets, given optimal savings\n",
    "    behavior and pessimistic Beliefs. Parameter cp is an instance of canersPessimist.\n",
    "    \"\"\"\n",
    "    \n",
    "    Π_real, z_vals, r, w = cp.Π_real, cp.z_vals, cp.r, cp.w\n",
    "    mc = MarkovChain(Π_real)\n",
    "    c_init = initialize(cp)\n",
    "    K = lambda c: belief_operator(c, cp)\n",
    "    c = fixed_point(K=K, c_init=c_init, max_iter=max_iter)\n",
    "    cf = lambda a, i_z: np.interp(a, cp.asset_grid, c[:, i_z])\n",
    "    a = np.zeros(T+1)\n",
    "    interest_rates = np.zeros(T)\n",
    "    wages = np.zeros(T)\n",
    "    a[0]=1e-5\n",
    "    z_seq = mc.simulate(T)\n",
    "    for t in range(T):\n",
    "        i_z = z_seq[t]\n",
    "        a[t+1] = (1+r*z_vals[i_z][0]) * a[t] + w * z_vals[i_z][1] - cf(a[t], i_z)\n",
    "        interest_rates[t] = r*z_vals[i_z][0]\n",
    "        wages[t] = r*z_vals[i_z][1]\n",
    "    return a, interest_rates, wages"
   ]
  },
  {
   "cell_type": "code",
   "execution_count": 150,
   "metadata": {},
   "outputs": [
    {
     "name": "stdout",
     "output_type": "stream",
     "text": [
      "r-shock state values: [ 1.65188765  0.2        -0.47520202]\n"
     ]
    },
    {
     "data": {
      "text/plain": [
       "array([[ 1.65188765,  0.5       ],\n",
       "       [ 0.2       ,  0.5       ],\n",
       "       [-0.47520202,  0.5       ],\n",
       "       [ 1.65188765,  1.        ],\n",
       "       [ 0.2       ,  1.        ],\n",
       "       [-0.47520202,  1.        ]])"
      ]
     },
     "execution_count": 150,
     "metadata": {},
     "output_type": "execute_result"
    }
   ],
   "source": [
    "cp = canersHousehold(mean_preserved=True)\n",
    "cp.z_belief_vals"
   ]
  },
  {
   "cell_type": "code",
   "execution_count": 151,
   "metadata": {},
   "outputs": [
    {
     "name": "stdout",
     "output_type": "stream",
     "text": [
      "real matrix: \n",
      " \n",
      "[[ 0.6    0.2    0.2    0.   ]\n",
      " [ 0.395  0.3    0.3    0.005]\n",
      " [ 0.395  0.3    0.3    0.005]\n",
      " [ 0.35   0.175  0.175  0.3  ]]\n",
      "\n",
      " \n",
      " belief matrix: \n",
      " \n",
      "[[ 0.6     0.2     0.2     0.    ]\n",
      " [ 0.1975  0.6     0.1975  0.005 ]\n",
      " [ 0.      0.      0.6     0.4   ]\n",
      " [ 0.35    0.35    0.      0.3   ]]\n",
      "\n",
      " \n",
      " state space: \n",
      " \n",
      "[ 1.5   0.02  0.02 -0.5 ]\n"
     ]
    }
   ],
   "source": [
    "# After that, I will simulate the asset choices given a interest rate, \n",
    "# compute the variance of the assets series and compare them.\n",
    "P1, P3, epsilon, z_r_vals = 0.6, 0.3, 0.005, [1.5, 0.02, -0.5]\n",
    "z_w_vals = (0.5, 1)\n",
    "Π_r_real, Π_r_belief, z_r_vals = belief_decompose(trans_mat(P1, P3, epsilon),\n",
    "                                              z_r_vals)\n",
    "print('real matrix: \\n \\n{}'.format(Π_r_real))\n",
    "print('\\n \\n belief matrix: \\n \\n{}'.format(Π_r_belief))\n",
    "print('\\n \\n state space: \\n \\n{}'.format(z_r_vals))"
   ]
  },
  {
   "cell_type": "code",
   "execution_count": 152,
   "metadata": {},
   "outputs": [
    {
     "name": "stdout",
     "output_type": "stream",
     "text": [
      "r-shock state values: [ 2.82643065  0.02        0.02       -0.3       ]\n",
      "means_err: 7.647226253448824e-05\n",
      "variance_err: -8.284298811611635e-06, real: 0.7425169387921338, belief: 0.7425086544933222\n",
      "r-shock state values: [ 1.86613625  0.48851389  0.48851389 -0.26009538]\n"
     ]
    }
   ],
   "source": [
    "# create instances for different cases\n",
    "r=0.02\n",
    "# 1. non-pessimistic\n",
    "hh1 = canersHousehold(r=r,\n",
    "                      z_r_vals=z_r_vals, \n",
    "                      z_w_vals=z_w_vals,  \n",
    "                      Π_r_real=Π_r_real, \n",
    "                      Π_r_belief=Π_r_real)\n",
    "# 2. pessimistic\n",
    "hh2 = canersHousehold(r=r,\n",
    "                      z_r_vals=z_r_vals, \n",
    "                      z_w_vals=z_w_vals, \n",
    "                      Π_r_real=Π_r_real, \n",
    "                      Π_r_belief=Π_r_belief)\n",
    "# 3. pessimistic with mean-preserving-spread\n",
    "hh3 = canersHousehold(r=r,\n",
    "                      z_r_vals=z_r_vals, \n",
    "                      z_w_vals=z_w_vals,  \n",
    "                      Π_r_real=Π_r_real, \n",
    "                      Π_r_belief=Π_r_belief, \n",
    "                      mean_preserved = True)\n",
    "# 4. pessimistic with mean-preserving statespace and same variance\n",
    "hh4 = canersHousehold(r=r,\n",
    "                      z_r_vals=z_r_vals, \n",
    "                      z_w_vals=z_w_vals,  \n",
    "                      Π_r_real=Π_r_real, \n",
    "                      Π_r_belief=Π_r_belief, \n",
    "                      mean_and_var_preserved = True)\n",
    "\n",
    "#simulate the asset series\n",
    "T=500000\n",
    "max_iter=500\n",
    "a_np, r_np, w_np = pessimistic_asset_series(hh1,\n",
    "                                      T=T,\n",
    "                                      max_iter=max_iter)\n",
    "a_p, r_p, w_p = pessimistic_asset_series(hh2,\n",
    "                                    T=T,\n",
    "                                    max_iter=max_iter)\n",
    "a_p_mp, r_p_mp, w_mp = pessimistic_asset_series(hh3,\n",
    "                                          T=T,\n",
    "                                          max_iter=max_iter)\n",
    "a_p_mvp, r_p_mvp, w_mvp = pessimistic_asset_series(hh4,\n",
    "                                          T=T,\n",
    "                                          max_iter=max_iter)"
   ]
  },
  {
   "cell_type": "code",
   "execution_count": 153,
   "metadata": {},
   "outputs": [
    {
     "data": {
      "text/plain": [
       "array([[ 1.86613625,  0.5       ],\n",
       "       [ 0.48851389,  0.5       ],\n",
       "       [ 0.48851389,  0.5       ],\n",
       "       [-0.26009538,  0.5       ],\n",
       "       [ 1.86613625,  1.        ],\n",
       "       [ 0.48851389,  1.        ],\n",
       "       [ 0.48851389,  1.        ],\n",
       "       [-0.26009538,  1.        ]])"
      ]
     },
     "execution_count": 153,
     "metadata": {},
     "output_type": "execute_result"
    }
   ],
   "source": [
    "hh4.z_belief_vals"
   ]
  },
  {
   "cell_type": "code",
   "execution_count": 155,
   "metadata": {},
   "outputs": [
    {
     "data": {
      "text/plain": [
       "(0.018897980000000002,\n",
       " 0.018895679999999998,\n",
       " 0.018900379999999994,\n",
       " 0.018896799999999991)"
      ]
     },
     "execution_count": 155,
     "metadata": {},
     "output_type": "execute_result"
    }
   ],
   "source": [
    "std_wp, std_wnp, std_wpmp, std_wpmvp = np.sqrt(np.var(w_p)), np.sqrt(np.var(w_np)), np.sqrt(np.var(w_mp)), np.sqrt(np.var(w_mvp))\n",
    "std_wp, std_wnp, std_wpmp, std_wpmvp\n",
    "\n",
    "mean_wp, mean_wnp, mean_wpmp, mean_wpmvp = np.mean(w_p), np.mean(w_np), np.mean(w_mp), np.mean(w_mvp) \n",
    "mean_wp, mean_wnp, mean_wpmp, mean_wpmvp"
   ]
  },
  {
   "cell_type": "code",
   "execution_count": 170,
   "metadata": {},
   "outputs": [
    {
     "data": {
      "text/plain": [
       "(0.051266585163587342,\n",
       " 0.074160578273054736,\n",
       " 0.084660908368135307,\n",
       " 0.078806166149500395)"
      ]
     },
     "execution_count": 170,
     "metadata": {},
     "output_type": "execute_result"
    }
   ],
   "source": [
    "std_ap, std_anp, std_apmp, std_apmvp = np.sqrt(np.var(a_p)), np.sqrt(np.var(a_np)), np.sqrt(np.var(a_p_mp)), np.sqrt(np.var(a_p_mvp))\n",
    "std_ap, std_anp, std_apmp, std_apmvp\n",
    "\n",
    "mean_ap, mean_anp, mean_apmp, mean_apmvp = np.mean(np.log(a_p)), np.mean(np.log(a_np)), np.mean(np.log(a_p_mp)), np.mean(np.log(a_p_mvp)) \n",
    "mean_ap, mean_anp, mean_apmp, mean_apmvp\n",
    "std_ap, std_anp, std_apmp, std_apmvp"
   ]
  },
  {
   "cell_type": "code",
   "execution_count": 171,
   "metadata": {},
   "outputs": [
    {
     "data": {
      "text/plain": [
       "(0.015067043200000001,\n",
       " 0.015114140800000004,\n",
       " 0.015025974400000006,\n",
       " 0.015041752000000004)"
      ]
     },
     "execution_count": 171,
     "metadata": {},
     "output_type": "execute_result"
    }
   ],
   "source": [
    "std_rp, std_rnp, std_rpmp, std_rpmvp = np.sqrt(np.var(r_p)), np.sqrt(np.var(r_np)), np.sqrt(np.var(r_p_mp)), np.sqrt(np.var(r_p_mvp))\n",
    "std_rp, std_rnp, std_rpmp, std_rpmvp\n",
    "\n",
    "mean_rp, mean_rnp, mean_rpmp, mean_rpmvp = np.mean(r_p), np.mean(r_np), np.mean(r_p_mp), np.mean(r_p_mvp) \n",
    "mean_rp, mean_rnp, mean_rpmp, mean_rpmvp"
   ]
  },
  {
   "cell_type": "code",
   "execution_count": 172,
   "metadata": {},
   "outputs": [
    {
     "data": {
      "text/html": [
       "<div>\n",
       "<style>\n",
       "    .dataframe thead tr:only-child th {\n",
       "        text-align: right;\n",
       "    }\n",
       "\n",
       "    .dataframe thead th {\n",
       "        text-align: left;\n",
       "    }\n",
       "\n",
       "    .dataframe tbody tr th {\n",
       "        vertical-align: top;\n",
       "    }\n",
       "</style>\n",
       "<table border=\"1\" class=\"dataframe\">\n",
       "  <thead>\n",
       "    <tr style=\"text-align: right;\">\n",
       "      <th></th>\n",
       "      <th>mean</th>\n",
       "      <th>std</th>\n",
       "    </tr>\n",
       "    <tr>\n",
       "      <th>wages</th>\n",
       "      <th></th>\n",
       "      <th></th>\n",
       "    </tr>\n",
       "  </thead>\n",
       "  <tbody>\n",
       "    <tr>\n",
       "      <th>non-pessisimistic assets</th>\n",
       "      <td>0.018896</td>\n",
       "      <td>0.003134</td>\n",
       "    </tr>\n",
       "    <tr>\n",
       "      <th>pessisimistic assets</th>\n",
       "      <td>0.018898</td>\n",
       "      <td>0.003131</td>\n",
       "    </tr>\n",
       "    <tr>\n",
       "      <th>pessisimistic assets, mean-preserved</th>\n",
       "      <td>0.018900</td>\n",
       "      <td>0.003128</td>\n",
       "    </tr>\n",
       "    <tr>\n",
       "      <th>pessisimistic assets, mean-var-preserved</th>\n",
       "      <td>0.018897</td>\n",
       "      <td>0.003133</td>\n",
       "    </tr>\n",
       "  </tbody>\n",
       "</table>\n",
       "</div>"
      ],
      "text/plain": [
       "                                              mean       std\n",
       "wages                                                       \n",
       "non-pessisimistic assets                  0.018896  0.003134\n",
       "pessisimistic assets                      0.018898  0.003131\n",
       "pessisimistic assets, mean-preserved      0.018900  0.003128\n",
       "pessisimistic assets, mean-var-preserved  0.018897  0.003133"
      ]
     },
     "execution_count": 172,
     "metadata": {},
     "output_type": "execute_result"
    }
   ],
   "source": [
    "import pandas as pd\n",
    "\n",
    "wages = [{'wages': 'non-pessisimistic assets', 'mean': mean_wnp, 'std': std_wnp},\n",
    "         {'wages': 'pessisimistic assets',  'mean': mean_wp, 'std': std_wp},\n",
    "         {'wages': 'pessisimistic assets, mean-preserved',  'mean': mean_wpmp,  'std': std_wpmp},\n",
    "         {'wages': 'pessisimistic assets, mean-var-preserved',  'mean': mean_wpmvp,  'std': std_wpmvp}]\n",
    "dfa = pd.DataFrame(wages)\n",
    "dfa0 = dfa.set_index('wages')\n",
    "dfa0"
   ]
  },
  {
   "cell_type": "code",
   "execution_count": 173,
   "metadata": {
    "scrolled": true
   },
   "outputs": [
    {
     "data": {
      "text/html": [
       "<div>\n",
       "<style>\n",
       "    .dataframe thead tr:only-child th {\n",
       "        text-align: right;\n",
       "    }\n",
       "\n",
       "    .dataframe thead th {\n",
       "        text-align: left;\n",
       "    }\n",
       "\n",
       "    .dataframe tbody tr th {\n",
       "        vertical-align: top;\n",
       "    }\n",
       "</style>\n",
       "<table border=\"1\" class=\"dataframe\">\n",
       "  <thead>\n",
       "    <tr style=\"text-align: right;\">\n",
       "      <th></th>\n",
       "      <th>mean</th>\n",
       "      <th>std</th>\n",
       "    </tr>\n",
       "    <tr>\n",
       "      <th>assets</th>\n",
       "      <th></th>\n",
       "      <th></th>\n",
       "    </tr>\n",
       "  </thead>\n",
       "  <tbody>\n",
       "    <tr>\n",
       "      <th>non-pessisimistic assets</th>\n",
       "      <td>-1.811708</td>\n",
       "      <td>0.074161</td>\n",
       "    </tr>\n",
       "    <tr>\n",
       "      <th>pessisimistic assets</th>\n",
       "      <td>-2.264532</td>\n",
       "      <td>0.051267</td>\n",
       "    </tr>\n",
       "    <tr>\n",
       "      <th>pessisimistic assets, mean-preserved</th>\n",
       "      <td>-1.750965</td>\n",
       "      <td>0.084661</td>\n",
       "    </tr>\n",
       "    <tr>\n",
       "      <th>pessisimistic assets, mean-var-preserved</th>\n",
       "      <td>-1.780783</td>\n",
       "      <td>0.078806</td>\n",
       "    </tr>\n",
       "  </tbody>\n",
       "</table>\n",
       "</div>"
      ],
      "text/plain": [
       "                                              mean       std\n",
       "assets                                                      \n",
       "non-pessisimistic assets                 -1.811708  0.074161\n",
       "pessisimistic assets                     -2.264532  0.051267\n",
       "pessisimistic assets, mean-preserved     -1.750965  0.084661\n",
       "pessisimistic assets, mean-var-preserved -1.780783  0.078806"
      ]
     },
     "execution_count": 173,
     "metadata": {},
     "output_type": "execute_result"
    }
   ],
   "source": [
    "assets = [{'assets': 'non-pessisimistic assets', 'mean': mean_anp, 'std': std_anp},\n",
    "         {'assets': 'pessisimistic assets',  'mean': mean_ap, 'std': std_ap},\n",
    "         {'assets': 'pessisimistic assets, mean-preserved',  'mean': mean_apmp,  'std': std_apmp},\n",
    "         {'assets': 'pessisimistic assets, mean-var-preserved',  'mean': mean_apmvp,  'std': std_apmvp}]\n",
    "dfa = pd.DataFrame(assets)\n",
    "dfa0 = dfa.set_index('assets')\n",
    "dfa0"
   ]
  },
  {
   "cell_type": "code",
   "execution_count": 160,
   "metadata": {},
   "outputs": [
    {
     "data": {
      "text/html": [
       "<div>\n",
       "<style>\n",
       "    .dataframe thead tr:only-child th {\n",
       "        text-align: right;\n",
       "    }\n",
       "\n",
       "    .dataframe thead th {\n",
       "        text-align: left;\n",
       "    }\n",
       "\n",
       "    .dataframe tbody tr th {\n",
       "        vertical-align: top;\n",
       "    }\n",
       "</style>\n",
       "<table border=\"1\" class=\"dataframe\">\n",
       "  <thead>\n",
       "    <tr style=\"text-align: right;\">\n",
       "      <th></th>\n",
       "      <th>mean</th>\n",
       "      <th>std</th>\n",
       "    </tr>\n",
       "    <tr>\n",
       "      <th>interest-rates</th>\n",
       "      <th></th>\n",
       "      <th></th>\n",
       "    </tr>\n",
       "  </thead>\n",
       "  <tbody>\n",
       "    <tr>\n",
       "      <th>non-pessisimistic case</th>\n",
       "      <td>0.015114</td>\n",
       "      <td>0.014849</td>\n",
       "    </tr>\n",
       "    <tr>\n",
       "      <th>pessisimistic case</th>\n",
       "      <td>0.015067</td>\n",
       "      <td>0.014850</td>\n",
       "    </tr>\n",
       "    <tr>\n",
       "      <th>pessisimistic case, mean-preserved</th>\n",
       "      <td>0.015026</td>\n",
       "      <td>0.014848</td>\n",
       "    </tr>\n",
       "    <tr>\n",
       "      <th>pessisimistic case, mean-var-preserved</th>\n",
       "      <td>0.015042</td>\n",
       "      <td>0.014851</td>\n",
       "    </tr>\n",
       "  </tbody>\n",
       "</table>\n",
       "</div>"
      ],
      "text/plain": [
       "                                            mean       std\n",
       "interest-rates                                            \n",
       "non-pessisimistic case                  0.015114  0.014849\n",
       "pessisimistic case                      0.015067  0.014850\n",
       "pessisimistic case, mean-preserved      0.015026  0.014848\n",
       "pessisimistic case, mean-var-preserved  0.015042  0.014851"
      ]
     },
     "execution_count": 160,
     "metadata": {},
     "output_type": "execute_result"
    }
   ],
   "source": [
    "interest_rates = [{'interest-rates': 'non-pessisimistic case', 'mean': mean_rnp, 'std': std_rnp},\n",
    "         {'interest-rates': 'pessisimistic case',  'mean': mean_rp, 'std': std_rp},\n",
    "         {'interest-rates': 'pessisimistic case, mean-preserved',  'mean': mean_rpmp,  'std': std_rpmp},\n",
    "         {'interest-rates': 'pessisimistic case, mean-var-preserved',  'mean': mean_rpmvp,  'std': std_rpmvp}]\n",
    "dfi = pd.DataFrame(interest_rates)\n",
    "dfi0 = dfi.set_index('interest-rates')\n",
    "dfi0"
   ]
  },
  {
   "cell_type": "code",
   "execution_count": 161,
   "metadata": {
    "collapsed": true
   },
   "outputs": [],
   "source": [
    "from quantecon import MarkovChain\n",
    "z_r_vals_mps = hh3.z_r_vals_belief\n",
    "z_r_vals_mvp = hh4.z_r_vals_belief\n",
    "\n",
    "# Let's simulate the interest rates how they are perceived by the agents in each case\n",
    "T=1000000\n",
    "r=0.02\n",
    "# 1. case, non-pessimistic\n",
    "perceived_mc_np = MarkovChain(Π_r_real, state_values=r*z_r_vals)\n",
    "pr_np = perceived_mc_np.simulate(T)\n",
    "\n",
    "# 2. case, pessimmistic\n",
    "perceived_mc_p = MarkovChain(Π_r_belief, state_values=r*z_r_vals)\n",
    "pr_p = perceived_mc_p.simulate(T)\n",
    "\n",
    "\n",
    "# 3. case, pessimistic mean-presreved \n",
    "perceived_mc_pmp = MarkovChain(Π_r_belief, state_values=r*z_r_vals_mps)\n",
    "pr_p_mp = perceived_mc_pmp.simulate(T)\n",
    "\n",
    "# 3. case, pessimistic mean-and-var-presreved \n",
    "perceived_mc_pmvp = MarkovChain(Π_r_belief, state_values=r*z_r_vals_mvp)\n",
    "pr_p_mvp = perceived_mc_pmvp.simulate(T)"
   ]
  },
  {
   "cell_type": "code",
   "execution_count": 162,
   "metadata": {},
   "outputs": [
    {
     "data": {
      "text/plain": [
       "(0.014797556586411444,\n",
       " 0.014849993789845885,\n",
       " 0.025942314783962358,\n",
       " 0.014829550513064282)"
      ]
     },
     "execution_count": 162,
     "metadata": {},
     "output_type": "execute_result"
    }
   ],
   "source": [
    "pstd_rp, pstd_rnp, pstd_rpmp, pstd_rpmvp = np.sqrt(np.var(pr_p)), np.sqrt(np.var(pr_np)), np.sqrt(np.var(pr_p_mp)), np.sqrt(np.var(pr_p_mvp))\n",
    "pstd_rp, pstd_rnp, pstd_rpmp, pstd_rpmvp"
   ]
  },
  {
   "cell_type": "code",
   "execution_count": 163,
   "metadata": {},
   "outputs": [
    {
     "data": {
      "text/plain": [
       "(0.0070091055999999992,\n",
       " 0.015096518400000003,\n",
       " 0.015079317044941535,\n",
       " 0.015050403429147484)"
      ]
     },
     "execution_count": 163,
     "metadata": {},
     "output_type": "execute_result"
    }
   ],
   "source": [
    "pmean_rp, pmean_rnp, pmean_rpmp, pmean_rpmvp = np.mean(pr_p), np.mean(pr_np), np.mean(pr_p_mp), np.mean(pr_p_mvp)\n",
    "pmean_rp, pmean_rnp, pmean_rpmp, pmean_rpmvp"
   ]
  },
  {
   "cell_type": "code",
   "execution_count": 164,
   "metadata": {},
   "outputs": [
    {
     "data": {
      "text/html": [
       "<div>\n",
       "<style>\n",
       "    .dataframe thead tr:only-child th {\n",
       "        text-align: right;\n",
       "    }\n",
       "\n",
       "    .dataframe thead th {\n",
       "        text-align: left;\n",
       "    }\n",
       "\n",
       "    .dataframe tbody tr th {\n",
       "        vertical-align: top;\n",
       "    }\n",
       "</style>\n",
       "<table border=\"1\" class=\"dataframe\">\n",
       "  <thead>\n",
       "    <tr style=\"text-align: right;\">\n",
       "      <th></th>\n",
       "      <th>mean</th>\n",
       "      <th>std</th>\n",
       "    </tr>\n",
       "    <tr>\n",
       "      <th>perceived interest-rates</th>\n",
       "      <th></th>\n",
       "      <th></th>\n",
       "    </tr>\n",
       "  </thead>\n",
       "  <tbody>\n",
       "    <tr>\n",
       "      <th>non-pessisimistic case</th>\n",
       "      <td>0.015097</td>\n",
       "      <td>0.014850</td>\n",
       "    </tr>\n",
       "    <tr>\n",
       "      <th>pessisimistic case</th>\n",
       "      <td>0.007009</td>\n",
       "      <td>0.014798</td>\n",
       "    </tr>\n",
       "    <tr>\n",
       "      <th>pessisimistic case, mean-preserved</th>\n",
       "      <td>0.015079</td>\n",
       "      <td>0.025942</td>\n",
       "    </tr>\n",
       "    <tr>\n",
       "      <th>pessisimistic case, mean-var-preserved</th>\n",
       "      <td>0.015050</td>\n",
       "      <td>0.014830</td>\n",
       "    </tr>\n",
       "  </tbody>\n",
       "</table>\n",
       "</div>"
      ],
      "text/plain": [
       "                                            mean       std\n",
       "perceived interest-rates                                  \n",
       "non-pessisimistic case                  0.015097  0.014850\n",
       "pessisimistic case                      0.007009  0.014798\n",
       "pessisimistic case, mean-preserved      0.015079  0.025942\n",
       "pessisimistic case, mean-var-preserved  0.015050  0.014830"
      ]
     },
     "execution_count": 164,
     "metadata": {},
     "output_type": "execute_result"
    }
   ],
   "source": [
    "perceived_interest_rates = [{'perceived interest-rates': 'non-pessisimistic case', 'mean': pmean_rnp, 'std': pstd_rnp},\n",
    "         {'perceived interest-rates': 'pessisimistic case',  'mean': pmean_rp, 'std': pstd_rp},\n",
    "         {'perceived interest-rates': 'pessisimistic case, mean-preserved',  'mean': pmean_rpmp,  'std': pstd_rpmp},\n",
    "         {'perceived interest-rates': 'pessisimistic case, mean-var-preserved',  'mean': pmean_rpmvp,  'std': pstd_rpmvp}]\n",
    "dfpi = pd.DataFrame(perceived_interest_rates)\n",
    "dfpi0 = dfpi.set_index('perceived interest-rates')\n",
    "dfpi0"
   ]
  },
  {
   "cell_type": "code",
   "execution_count": 165,
   "metadata": {
    "collapsed": true
   },
   "outputs": [],
   "source": [
    "dfa0.to_latex('variances.tex')\n",
    "dfi0.to_latex('variances2.tex')\n",
    "dfpi0.to_latex('variances3.tex')"
   ]
  },
  {
   "cell_type": "code",
   "execution_count": 3,
   "metadata": {},
   "outputs": [
    {
     "data": {
      "text/plain": [
       "array([  1.00000000e-06,   2.77866667e-03,   5.55633333e-03,\n",
       "         8.33400000e-03,   1.11116667e-02,   1.38893333e-02,\n",
       "         1.66670000e-02,   1.94446667e-02,   2.22223333e-02,\n",
       "         2.50000000e-02])"
      ]
     },
     "execution_count": 3,
     "metadata": {},
     "output_type": "execute_result"
    }
   ],
   "source": [
    "import numpy as np\n",
    "np.linspace(1e-6, 0.025,10)"
   ]
  },
  {
   "cell_type": "code",
   "execution_count": null,
   "metadata": {
    "collapsed": true
   },
   "outputs": [],
   "source": []
  }
 ],
 "metadata": {
  "kernelspec": {
   "display_name": "Python 3",
   "language": "python",
   "name": "python3"
  },
  "language_info": {
   "codemirror_mode": {
    "name": "ipython",
    "version": 3
   },
   "file_extension": ".py",
   "mimetype": "text/x-python",
   "name": "python",
   "nbconvert_exporter": "python",
   "pygments_lexer": "ipython3",
   "version": "3.6.1"
  }
 },
 "nbformat": 4,
 "nbformat_minor": 2
}
